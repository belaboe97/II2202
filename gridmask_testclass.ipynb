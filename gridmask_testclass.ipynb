{
  "nbformat": 4,
  "nbformat_minor": 0,
  "metadata": {
    "colab": {
      "provenance": [],
      "collapsed_sections": []
    },
    "kernelspec": {
      "name": "python3",
      "display_name": "Python 3"
    },
    "language_info": {
      "name": "python"
    },
    "accelerator": "GPU"
  },
  "cells": [
    {
      "cell_type": "markdown",
      "source": [],
      "metadata": {
        "id": "IohpKuS7GiZV"
      }
    },
    {
      "cell_type": "markdown",
      "source": [
        "# Initializing Gridmask "
      ],
      "metadata": {
        "id": "3escvJniGewt"
      }
    },
    {
      "cell_type": "code",
      "source": [
        "!pip install torchvision\n"
      ],
      "metadata": {
        "colab": {
          "base_uri": "https://localhost:8080/"
        },
        "id": "cVeBCp47LRtR",
        "outputId": "8beff567-00bb-48c4-84df-78a5548245cb"
      },
      "execution_count": null,
      "outputs": [
        {
          "output_type": "stream",
          "name": "stdout",
          "text": [
            "Looking in indexes: https://pypi.org/simple, https://us-python.pkg.dev/colab-wheels/public/simple/\n",
            "Requirement already satisfied: torchvision in /usr/local/lib/python3.7/dist-packages (0.13.1+cu113)\n",
            "Requirement already satisfied: pillow!=8.3.*,>=5.3.0 in /usr/local/lib/python3.7/dist-packages (from torchvision) (7.1.2)\n",
            "Requirement already satisfied: typing-extensions in /usr/local/lib/python3.7/dist-packages (from torchvision) (4.1.1)\n",
            "Requirement already satisfied: numpy in /usr/local/lib/python3.7/dist-packages (from torchvision) (1.21.6)\n",
            "Requirement already satisfied: torch==1.12.1 in /usr/local/lib/python3.7/dist-packages (from torchvision) (1.12.1+cu113)\n",
            "Requirement already satisfied: requests in /usr/local/lib/python3.7/dist-packages (from torchvision) (2.23.0)\n",
            "Requirement already satisfied: certifi>=2017.4.17 in /usr/local/lib/python3.7/dist-packages (from requests->torchvision) (2022.6.15)\n",
            "Requirement already satisfied: urllib3!=1.25.0,!=1.25.1,<1.26,>=1.21.1 in /usr/local/lib/python3.7/dist-packages (from requests->torchvision) (1.24.3)\n",
            "Requirement already satisfied: idna<3,>=2.5 in /usr/local/lib/python3.7/dist-packages (from requests->torchvision) (2.10)\n",
            "Requirement already satisfied: chardet<4,>=3.0.2 in /usr/local/lib/python3.7/dist-packages (from requests->torchvision) (3.0.4)\n"
          ]
        }
      ]
    },
    {
      "cell_type": "markdown",
      "source": [
        "#Helper Class "
      ],
      "metadata": {
        "id": "qEsh5eecljmR"
      }
    },
    {
      "cell_type": "code",
      "source": [
        "'''Some helper functions for PyTorch, including:\n",
        "    - get_mean_and_std: calculate the mean and std value of dataset.\n",
        "    - msr_init: net parameter initialization.\n",
        "    - progress_bar: progress bar mimic xlua.progress.\n",
        "'''\n",
        "import errno\n",
        "import os\n",
        "import sys\n",
        "import time\n",
        "import math\n",
        "\n",
        "import torch.nn as nn\n",
        "import torch.nn.init as init\n",
        "from torch.autograd import Variable\n",
        "\n",
        "__all__ = ['get_mean_and_std', 'init_params', 'mkdir_p', 'AverageMeter']\n",
        "\n",
        "\n",
        "def get_mean_and_std(dataset):\n",
        "    '''Compute the mean and std value of dataset.'''\n",
        "    dataloader = trainloader = torch.utils.data.DataLoader(dataset, batch_size=1, shuffle=True, num_workers=2)\n",
        "\n",
        "    mean = torch.zeros(3)\n",
        "    std = torch.zeros(3)\n",
        "    print('==> Computing mean and std..')\n",
        "    for inputs, targets in dataloader:\n",
        "        for i in range(3):\n",
        "            mean[i] += inputs[:,i,:,:].mean()\n",
        "            std[i] += inputs[:,i,:,:].std()\n",
        "    mean.div_(len(dataset))\n",
        "    std.div_(len(dataset))\n",
        "    return mean, std\n",
        "\n",
        "def init_params(net):\n",
        "    '''Init layer parameters.'''\n",
        "    for m in net.modules():\n",
        "        if isinstance(m, nn.Conv2d):\n",
        "            init.kaiming_normal(m.weight, mode='fan_out')\n",
        "            if m.bias:\n",
        "                init.constant(m.bias, 0)\n",
        "        elif isinstance(m, nn.BatchNorm2d):\n",
        "            init.constant(m.weight, 1)\n",
        "            init.constant(m.bias, 0)\n",
        "        elif isinstance(m, nn.Linear):\n",
        "            init.normal(m.weight, std=1e-3)\n",
        "            if m.bias:\n",
        "                init.constant(m.bias, 0)\n",
        "\n",
        "def mkdir_p(path):\n",
        "    '''make dir if not exist'''\n",
        "    try:\n",
        "        os.makedirs(path)\n",
        "    except OSError as exc:  # Python >2.5\n",
        "        if exc.errno == errno.EEXIST and os.path.isdir(path):\n",
        "            pass\n",
        "        else:\n",
        "            raise\n",
        "\n",
        "class AverageMeter(object):\n",
        "    \"\"\"Computes and stores the average and current value\n",
        "       Imported from https://github.com/pytorch/examples/blob/master/imagenet/main.py#L247-L262\n",
        "    \"\"\"\n",
        "    def __init__(self):\n",
        "        self.reset()\n",
        "\n",
        "    def reset(self):\n",
        "        self.val = 0\n",
        "        self.avg = 0\n",
        "        self.sum = 0\n",
        "        self.count = 0\n",
        "\n",
        "    def update(self, val, n=1):\n",
        "        self.val = val\n",
        "        self.sum += val * n\n",
        "        self.count += n\n",
        "        self.avg = self.sum / self.count\n"
      ],
      "metadata": {
        "id": "q8tBoODLQfWT"
      },
      "execution_count": null,
      "outputs": []
    },
    {
      "cell_type": "markdown",
      "source": [
        "# GridMask Class - Use For Experiments "
      ],
      "metadata": {
        "id": "_DKCydX5lm-m"
      }
    },
    {
      "cell_type": "code",
      "source": [
        "import torch\n",
        "import torch.nn as nn\n",
        "import numpy as np\n",
        "from PIL import Image\n",
        "import pdb\n",
        "import math\n",
        "\n",
        "class Grid(object):\n",
        "    def __init__(self, d1, d2, rotate = 1, ratio = 0.5, mode=0, prob=1.):\n",
        "        self.d1 = d1\n",
        "        self.d2 = d2\n",
        "        self.rotate = rotate\n",
        "        self.ratio = ratio\n",
        "        self.mode=mode\n",
        "        self.st_prob = self.prob = prob\n",
        "\n",
        "    def set_prob(self, epoch, max_epoch):\n",
        "        self.prob = self.st_prob * min(1, epoch / max_epoch)\n",
        "\n",
        "    def __call__(self, img):\n",
        "        if np.random.rand() > self.prob:\n",
        "            return img\n",
        "        h = img.size(1)\n",
        "        w = img.size(2)\n",
        "        \n",
        "        # 1.5 * h, 1.5 * w works fine with the squared images\n",
        "        # But with rectangular input, the mask might not be able to recover back to the input image shape\n",
        "        # A square mask with edge length equal to the diagnoal of the input image \n",
        "        # will be able to cover all the image spot after the rotation. This is also the minimum square.\n",
        "        hh = math.ceil((math.sqrt(h*h + w*w)))\n",
        "        \n",
        "        d = np.random.randint(self.d1, self.d2)\n",
        "        #d = self.d\n",
        "        \n",
        "        # maybe use ceil? but i guess no big difference\n",
        "        self.l = math.ceil(d*self.ratio)\n",
        "        \n",
        "        mask = np.ones((hh, hh), np.float32)\n",
        "        st_h = np.random.randint(d)\n",
        "        st_w = np.random.randint(d)\n",
        "        for i in range(-1, hh//d+1):\n",
        "                s = d*i + st_h\n",
        "                t = s+self.l\n",
        "                s = max(min(s, hh), 0)\n",
        "                t = max(min(t, hh), 0)\n",
        "                mask[s:t,:] *= 0\n",
        "        for i in range(-1, hh//d+1):\n",
        "                s = d*i + st_w\n",
        "                t = s+self.l\n",
        "                s = max(min(s, hh), 0)\n",
        "                t = max(min(t, hh), 0)\n",
        "                mask[:,s:t] *= 0\n",
        "        r = np.random.randint(self.rotate)\n",
        "        mask = Image.fromarray(np.uint8(mask))\n",
        "        mask = mask.rotate(r)\n",
        "        mask = np.asarray(mask)\n",
        "        mask = mask[(hh-h)//2:(hh-h)//2+h, (hh-w)//2:(hh-w)//2+w]\n",
        "\n",
        "        mask = torch.from_numpy(mask).float().cuda()\n",
        "        if self.mode == 1:\n",
        "            mask = 1-mask\n",
        "\n",
        "        mask = mask.expand_as(img)\n",
        "        img = img * mask \n",
        "\n",
        "        return img\n",
        "\n",
        "class GridMask(nn.Module):\n",
        "    def __init__(self, d1, d2, rotate = 1, ratio = 0.5, mode=0, prob=1.):\n",
        "        super(GridMask, self).__init__()\n",
        "        self.rotate = rotate\n",
        "        self.ratio = ratio\n",
        "        self.mode = mode\n",
        "        self.st_prob = prob\n",
        "        self.grid = Grid(d1, d2, rotate, ratio, mode, prob)\n",
        "\n",
        "    def set_prob(self, epoch, max_epoch):\n",
        "        self.grid.set_prob(epoch, max_epoch)\n",
        "\n",
        "    def forward(self, x):\n",
        "        if not self.training:\n",
        "            return x\n",
        "        n,c,h,w = x.size()\n",
        "        y = []\n",
        "        for i in range(n):\n",
        "            y.append(self.grid(x[i]))\n",
        "        y = torch.cat(y).view(n,c,h,w)\n",
        "        return y\n",
        "\n"
      ],
      "metadata": {
        "id": "tC2qKYFsGW3o"
      },
      "execution_count": null,
      "outputs": []
    },
    {
      "cell_type": "markdown",
      "source": [
        "# Data Prefetch"
      ],
      "metadata": {
        "id": "gYJag0Mtl9Nv"
      }
    },
    {
      "cell_type": "code",
      "source": [
        "class data_prefetcher():\n",
        "    def __init__(self, loader):\n",
        "        self.loader = iter(loader)\n",
        "        self.stream = torch.cuda.Stream()\n",
        "        self.mean = torch.tensor([0.485 * 255, 0.456 * 255, 0.406 * 255]).cuda().view(1,3,1,1)\n",
        "        self.std = torch.tensor([0.229 * 255, 0.224 * 255, 0.225 * 255]).cuda().view(1,3,1,1)\n",
        "        # With Amp, it isn't necessary to manually convert data to half.\n",
        "        # if args.fp16:\n",
        "        #     self.mean = self.mean.half()\n",
        "        #     self.std = self.std.half()\n",
        "        self.preload()\n",
        "\n",
        "    def preload(self):\n",
        "        try:\n",
        "            self.next_input, self.next_target = next(self.loader)\n",
        "        except StopIteration:\n",
        "            self.next_input = None\n",
        "            self.next_target = None\n",
        "            return\n",
        "        # if record_stream() doesn't work, another option is to make sure device inputs are created\n",
        "        # on the main stream.\n",
        "        # self.next_input_gpu = torch.empty_like(self.next_input, device='cuda')\n",
        "        # self.next_target_gpu = torch.empty_like(self.next_target, device='cuda')\n",
        "        # Need to make sure the memory allocated for next_* is not still in use by the main stream\n",
        "        # at the time we start copying to next_*:\n",
        "        # self.stream.wait_stream(torch.cuda.current_stream())\n",
        "        with torch.cuda.stream(self.stream):\n",
        "            self.next_input = self.next_input.cuda(non_blocking=True)\n",
        "            self.next_target = self.next_target.cuda(non_blocking=True)\n",
        "            # more code for the alternative if record_stream() doesn't work:\n",
        "            # copy_ will record the use of the pinned source tensor in this side stream.\n",
        "            # self.next_input_gpu.copy_(self.next_input, non_blocking=True)\n",
        "            # self.next_target_gpu.copy_(self.next_target, non_blocking=True)\n",
        "            # self.next_input = self.next_input_gpu\n",
        "            # self.next_target = self.next_target_gpu\n",
        "\n",
        "            # With Amp, it isn't necessary to manually convert data to half.\n",
        "            # if args.fp16:\n",
        "            #     self.next_input = self.next_input.half()\n",
        "            # else:\n",
        "            self.next_input = self.next_input.float()\n",
        "            self.next_input = self.next_input.sub_(self.mean).div_(self.std)\n",
        "            \n",
        "    def next(self):\n",
        "        torch.cuda.current_stream().wait_stream(self.stream)\n",
        "        input = self.next_input\n",
        "        target = self.next_target\n",
        "        if input is not None:\n",
        "            input.record_stream(torch.cuda.current_stream())\n",
        "        if target is not None:\n",
        "            target.record_stream(torch.cuda.current_stream())\n",
        "        self.preload()\n",
        "        return input, target\n"
      ],
      "metadata": {
        "id": "rKtyNxEVHOhg"
      },
      "execution_count": null,
      "outputs": []
    },
    {
      "cell_type": "markdown",
      "source": [
        "#Visualization - Classes are bugged \n",
        "I guess the Upsampling class refers to nn.Upsample"
      ],
      "metadata": {
        "id": "_PPW8beQmHKL"
      }
    },
    {
      "cell_type": "code",
      "source": [
        "import matplotlib.pyplot as plt\n",
        "import torch\n",
        "import torch.nn as nn\n",
        "import torchvision\n",
        "import torchvision.transforms as transforms\n",
        "import numpy as np\n",
        "\n",
        "def show_mask_single(images, mask, Mean=(2, 2, 2), Std=(0.5,0.5,0.5)):\n",
        "    im_size = images.size(2)\n",
        "\n",
        "    def make_image(img, mean=(0,0,0), std=(1,1,1)):\n",
        "      for i in range(0, 3):\n",
        "          img[i] = img[i] * std[i] + mean[i]    # unnormalize\n",
        "      npimg = img.numpy()\n",
        "      return np.transpose(npimg, (1, 2, 0))\n",
        "\n",
        "\n",
        "    # save for adding mask\n",
        "    im_data = images.clone()\n",
        "    for i in range(0, 3):\n",
        "        im_data[:,i,:,:] = im_data[:,i,:,:] * Std[i] + Mean[i]    # unnormalize\n",
        "\n",
        "    images = make_image(torchvision.utils.make_grid(images), Mean, Std)\n",
        "    plt.subplot(2, 1, 1)\n",
        "    plt.imshow(images.astype('uint8'))\n",
        "    plt.axis('off')\n",
        "\"\"\"\n",
        "    # for b in range(mask.size(0)):\n",
        "    #     mask[b] = (mask[b] - mask[b].min())/(mask[b].max() - mask[b].min())\n",
        "    mask_size = mask.size(2)\n",
        "    # print('Max %f Min %f' % (mask.max(), mask.min()))\n",
        "    mask = (nn.Upsample(mask, scale_factor=im_size/mask_size))\n",
        "    # mask = colorize(upsampling(mask, scale_factor=im_size/mask_size))\n",
        "    # for c in range(3):\n",
        "    #     mask[:,c,:,:] = (mask[:,c,:,:] - Mean[c])/Std[c]\n",
        "\n",
        "    # print(mask.size())\n",
        "    mask = make_image(torchvision.utils.make_grid(0.3*im_data+0.7*mask.expand_as(im_data)))\n",
        "    # mask = make_image(torchvision.utils.make_grid(0.3*im_data+0.7*mask), Mean, Std)\n",
        "    plt.subplot(2, 1, 2)\n",
        "    plt.imshow(mask)\n",
        "    plt.axis('off')\n",
        "\"\"\""
      ],
      "metadata": {
        "colab": {
          "base_uri": "https://localhost:8080/",
          "height": 87
        },
        "id": "9pw5594FP5To",
        "outputId": "0f9c48a5-5019-493c-ee51-4a71d1c0f427"
      },
      "execution_count": null,
      "outputs": [
        {
          "output_type": "execute_result",
          "data": {
            "text/plain": [
              "\"\\n    # for b in range(mask.size(0)):\\n    #     mask[b] = (mask[b] - mask[b].min())/(mask[b].max() - mask[b].min())\\n    mask_size = mask.size(2)\\n    # print('Max %f Min %f' % (mask.max(), mask.min()))\\n    mask = (nn.Upsample(mask, scale_factor=im_size/mask_size))\\n    # mask = colorize(upsampling(mask, scale_factor=im_size/mask_size))\\n    # for c in range(3):\\n    #     mask[:,c,:,:] = (mask[:,c,:,:] - Mean[c])/Std[c]\\n\\n    # print(mask.size())\\n    mask = make_image(torchvision.utils.make_grid(0.3*im_data+0.7*mask.expand_as(im_data)))\\n    # mask = make_image(torchvision.utils.make_grid(0.3*im_data+0.7*mask), Mean, Std)\\n    plt.subplot(2, 1, 2)\\n    plt.imshow(mask)\\n    plt.axis('off')\\n\""
            ],
            "application/vnd.google.colaboratory.intrinsic+json": {
              "type": "string"
            }
          },
          "metadata": {},
          "execution_count": 133
        }
      ]
    },
    {
      "cell_type": "code",
      "source": [
        "def show_mask(images, masklist, Mean=(2, 2, 2), Std=(0.5,0.5,0.5)):\n",
        "    \n",
        "    def make_image(img, mean=(0,0,0), std=(1,1,1)):\n",
        "      for i in range(0, 3):\n",
        "          img[i] = img[i] * std[i] + mean[i]    # unnormalize\n",
        "      npimg = img.numpy()\n",
        "      return np.transpose(npimg, (1, 2, 0))\n",
        "\n",
        "    \n",
        "    im_size = images.size(2)\n",
        "\n",
        "    # save for adding mask\n",
        "    im_data = images.clone()\n",
        "    for i in range(0, 3):\n",
        "        im_data[:,i,:,:] = im_data[:,i,:,:] * Std[i] + Mean[i]    # unnormalize\n",
        "\n",
        "    images = make_image(torchvision.utils.make_grid(images), Mean, Std)\n",
        "    plt.subplot(1+len(masklist), 1, 1)\n",
        "    plt.imshow(images)\n",
        "    plt.axis('off')\n",
        "\n",
        "    for i in range(len(masklist)):\n",
        "        mask = masklist[i].data.cpu()\n",
        "        # for b in range(mask.size(0)):\n",
        "        #     mask[b] = (mask[b] - mask[b].min())/(mask[b].max() - mask[b].min())\n",
        "        mask_size = mask.size(2)\n",
        "        # print('Max %f Min %f' % (mask.max(), mask.min()))\n",
        "        mask = (nn.Upsample(mask, scale_factor=im_size/mask_size))\n",
        "        # mask = colorize(upsampling(mask, scale_factor=im_size/mask_size))\n",
        "        # for c in range(3):\n",
        "        #     mask[:,c,:,:] = (mask[:,c,:,:] - Mean[c])/Std[c]\n",
        "\n",
        "        # print(mask.size())\n",
        "        #mask = make_image(torchvision.utils.make_grid(0.3*im_data+0.7*mask)) #scale_factor \n",
        "        mask = make_image(torchvision.utils.make_grid(mask), Mean, Std)\n",
        "        plt.subplot(1+len(masklist), 1, i+2)\n",
        "        plt.imshow(mask)\n",
        "        plt.axis('off')\n"
      ],
      "metadata": {
        "id": "KeflwHF_cHOV"
      },
      "execution_count": null,
      "outputs": []
    },
    {
      "cell_type": "markdown",
      "source": [
        "# Download Examples"
      ],
      "metadata": {
        "id": "8rJdI4WfGjzG"
      }
    },
    {
      "cell_type": "code",
      "execution_count": null,
      "metadata": {
        "colab": {
          "base_uri": "https://localhost:8080/"
        },
        "id": "WQnXIB5tF30w",
        "outputId": "aa2146d3-ad96-4a2a-f499-e0c7683822d8"
      },
      "outputs": [
        {
          "output_type": "stream",
          "name": "stdout",
          "text": [
            "Files already downloaded and verified\n",
            "Files already downloaded and verified\n"
          ]
        }
      ],
      "source": [
        "import torch\n",
        "from torch.utils.data import Dataset\n",
        "import torchvision\n",
        "from torchvision import datasets\n",
        "from torchvision.transforms import ToTensor\n",
        "import matplotlib.pyplot as plt\n",
        "import torchvision.transforms as transforms\n",
        "\n",
        "crop_size = 224\n",
        "val_size = 256\n",
        "\n",
        "\n",
        "transform = transforms.Compose(\n",
        "    [transforms.RandomResizedCrop(crop_size),\n",
        "    transforms.RandomHorizontalFlip(),])\n",
        "\n",
        "batch_size = 4\n",
        "\n",
        "trainset = torchvision.datasets.CIFAR10(root='./data', train=True,\n",
        "                                        download=True, transform=transform)\n",
        "trainloader = torch.utils.data.DataLoader(trainset, batch_size=batch_size,\n",
        "                                          shuffle=True, num_workers=2)\n",
        "\n",
        "testset = torchvision.datasets.CIFAR10(root='./data', train=False,\n",
        "                                       download=True, transform=transform)\n",
        "testloader = torch.utils.data.DataLoader(testset, batch_size=batch_size,\n",
        "                                         shuffle=False, num_workers=2)\n",
        "\n",
        "classes = ('plane', 'car', 'bird', 'cat',\n",
        "           'deer', 'dog', 'frog', 'horse', 'ship', 'truck')"
      ]
    },
    {
      "cell_type": "code",
      "source": [
        "def fast_collate(batch):\n",
        "    imgs = [img[0] for img in batch]\n",
        "    targets = torch.tensor([target[1] for target in batch], dtype=torch.int64)\n",
        "    w = imgs[0].size[0]\n",
        "    h = imgs[0].size[1]\n",
        "    tensor = torch.zeros( (len(imgs), 3, h, w), dtype=torch.uint8 )\n",
        "    for i, img in enumerate(imgs):\n",
        "        nump_array = np.asarray(img, dtype=np.uint8)\n",
        "        if(nump_array.ndim < 3):\n",
        "            nump_array = np.expand_dims(nump_array, axis=-1)\n",
        "        nump_array = np.rollaxis(nump_array, 2)\n",
        "\n",
        "        tensor[i] += torch.from_numpy(nump_array)\n",
        "        \n",
        "    return tensor, targets"
      ],
      "metadata": {
        "id": "d5MS04HvhKje"
      },
      "execution_count": null,
      "outputs": []
    },
    {
      "cell_type": "code",
      "source": [
        "  train_loader = torch.utils.data.DataLoader(\n",
        "      trainset, pin_memory=True, collate_fn=fast_collate)\n",
        "\n",
        "  val_loader = torch.utils.data.DataLoader(\n",
        "      testset,\n",
        "      pin_memory=True,\n",
        "      collate_fn=fast_collate)"
      ],
      "metadata": {
        "id": "YXn-T4Znhjnj"
      },
      "execution_count": null,
      "outputs": []
    },
    {
      "cell_type": "code",
      "source": [
        " prefetcher = data_prefetcher(train_loader)\n",
        " input, target = prefetcher.next()"
      ],
      "metadata": {
        "id": "4SSBjYRwG0C8"
      },
      "execution_count": null,
      "outputs": []
    },
    {
      "cell_type": "code",
      "source": [
        "grid = GridMask(32,64)\n",
        "gimg = grid(input)"
      ],
      "metadata": {
        "id": "Fxkw_L2KI7qV"
      },
      "execution_count": null,
      "outputs": []
    },
    {
      "cell_type": "code",
      "source": [
        "imshow(torchvision.utils.make_grid(input.cpu()))\n",
        "imshow(torchvision.utils.make_grid(gimg.cpu()))"
      ],
      "metadata": {
        "colab": {
          "base_uri": "https://localhost:8080/",
          "height": 556
        },
        "id": "VTpH734tG3q9",
        "outputId": "a0f8bbb0-cecf-4269-c867-8bef8884e8a1"
      },
      "execution_count": null,
      "outputs": [
        {
          "output_type": "stream",
          "name": "stderr",
          "text": [
            "WARNING:matplotlib.image:Clipping input data to the valid range for imshow with RGB data ([0..1] for floats or [0..255] for integers).\n"
          ]
        },
        {
          "output_type": "display_data",
          "data": {
            "text/plain": [
              "<Figure size 432x288 with 1 Axes>"
            ],
            "image/png": "[encoded data removed]"
          },
          "metadata": {
            "needs_background": "light"
          }
        },
        {
          "output_type": "stream",
          "name": "stderr",
          "text": [
            "WARNING:matplotlib.image:Clipping input data to the valid range for imshow with RGB data ([0..1] for floats or [0..255] for integers).\n"
          ]
        },
        {
          "output_type": "display_data",
          "data": {
            "text/plain": [
              "<Figure size 432x288 with 1 Axes>"
            ],
            "image/png": "[encoded data removed]"
          },
          "metadata": {
            "needs_background": "light"
          }
        }
      ]
    }
  ]
}